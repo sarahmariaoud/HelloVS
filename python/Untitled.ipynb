{
 "metadata": {
  "language_info": {
   "codemirror_mode": {
    "name": "ipython",
    "version": 3
   },
   "file_extension": ".py",
   "mimetype": "text/x-python",
   "name": "python",
   "nbconvert_exporter": "python",
   "pygments_lexer": "ipython3",
   "version": "3.8.2-final"
  },
  "orig_nbformat": 2,
  "kernelspec": {
   "name": "python3",
   "display_name": "Python 3",
   "language": "python"
  }
 },
 "nbformat": 4,
 "nbformat_minor": 2,
 "cells": [
  {
   "cell_type": "code",
   "execution_count": 6,
   "metadata": {},
   "outputs": [
    {
     "output_type": "stream",
     "name": "stdout",
     "text": [
      "hey\n"
     ]
    }
   ],
   "source": [
    "x=3848\n",
    "print(\"hey\")"
   ]
  },
  {
   "source": [
    "# hey \n",
    "\n",
    "$$ x= 4 $$\n",
    "\n"
   ],
   "cell_type": "markdown",
   "metadata": {}
  }
 ]
}